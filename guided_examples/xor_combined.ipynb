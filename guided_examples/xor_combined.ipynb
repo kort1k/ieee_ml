{
 "cells": [
  {
   "cell_type": "markdown",
   "metadata": {},
   "source": [
    "# XOR with TensorFlow"
   ]
  },
  {
   "cell_type": "code",
   "execution_count": 1,
   "metadata": {},
   "outputs": [],
   "source": [
    "#importing tensorflow\n",
    "import tensorflow as tf\n",
    "#import the time module\n",
    "import time\n",
    "#importing numpy\n",
    "import numpy as np\n",
    "#importing debug library\n",
    "from tensorflow.python import debug as tf_debug"
   ]
  },
  {
   "cell_type": "code",
   "execution_count": 2,
   "metadata": {},
   "outputs": [],
   "source": [
    "#creating a session object which creates an environment where we can execute Operations and evaluate Tensors\n",
    "sess = tf.Session()"
   ]
  },
  {
   "cell_type": "markdown",
   "metadata": {},
   "source": [
    "## Debugger\n",
    "\n",
    "### Uncomment the below line and execute the code to run the debugger.\n",
    "\n",
    "### Go to the link once you start execution    \t\t\thttp://localhost:6006/  (Sometimes, this might not work. Once verify the terminal to check the correct URL to access Tensorboard)."
   ]
  },
  {
   "cell_type": "code",
   "execution_count": 1,
   "metadata": {},
   "outputs": [
    {
     "ename": "NameError",
     "evalue": "name 'tf_debug' is not defined",
     "output_type": "error",
     "traceback": [
      "\u001b[0;31m---------------------------------------------------------------------------\u001b[0m",
      "\u001b[0;31mNameError\u001b[0m                                 Traceback (most recent call last)",
      "\u001b[0;32m<ipython-input-1-aa34d65a0b6a>\u001b[0m in \u001b[0;36m<module>\u001b[0;34m()\u001b[0m\n\u001b[1;32m      1\u001b[0m \u001b[0;31m#Uncomment the below line to run the debugger\u001b[0m\u001b[0;34m\u001b[0m\u001b[0;34m\u001b[0m\u001b[0m\n\u001b[0;32m----> 2\u001b[0;31m \u001b[0msess\u001b[0m \u001b[0;34m=\u001b[0m \u001b[0mtf_debug\u001b[0m\u001b[0;34m.\u001b[0m\u001b[0mTensorBoardDebugWrapperSession\u001b[0m\u001b[0;34m(\u001b[0m\u001b[0msess\u001b[0m\u001b[0;34m,\u001b[0m \u001b[0;34m\"localhost:6064\"\u001b[0m\u001b[0;34m)\u001b[0m\u001b[0;34m\u001b[0m\u001b[0m\n\u001b[0m\u001b[1;32m      3\u001b[0m \u001b[0;31m#Uncomment the line below to run the CLI debugger. Run as .py(executable) file only!\u001b[0m\u001b[0;34m\u001b[0m\u001b[0;34m\u001b[0m\u001b[0m\n\u001b[1;32m      4\u001b[0m \u001b[0;31m#sess = tf_debug.LocalCLIDebugWrapperSession(sess)\u001b[0m\u001b[0;34m\u001b[0m\u001b[0;34m\u001b[0m\u001b[0m\n",
      "\u001b[0;31mNameError\u001b[0m: name 'tf_debug' is not defined"
     ]
    }
   ],
   "source": [
    "#Uncomment the below line to run the debugger\n",
    "sess = tf_debug.TensorBoardDebugWrapperSession(sess, \"localhost:6064\")\n",
    "#Uncomment the line below to run the CLI debugger. Run as .py(executable) file only!\n",
    "#sess = tf_debug.LocalCLIDebugWrapperSession(sess)"
   ]
  },
  {
   "cell_type": "code",
   "execution_count": 4,
   "metadata": {},
   "outputs": [],
   "source": [
    "#Inserting a placeholder for a tensor equal to size of data\n",
    "X = tf.placeholder(tf.float32, shape=[4,2], name = 'X')\n",
    "\n",
    "#Inserting a placeholder for a tensor equal to size of labels of the data\n",
    "Y = tf.placeholder(tf.float32, shape=[4,1], name = 'Y')"
   ]
  },
  {
   "cell_type": "code",
   "execution_count": 5,
   "metadata": {},
   "outputs": [],
   "source": [
    "#declaring a variable which will retain its state through multiple runs with random values from normal distribution\n",
    "W = tf.Variable(tf.truncated_normal([2,2]), name = \"W\")\n",
    "\n",
    "#declaring a variable which will retain its state through multiple runs with random values from normal distribution\n",
    "w = tf.Variable(tf.truncated_normal([2,1]), name = \"w\")"
   ]
  },
  {
   "cell_type": "code",
   "execution_count": 6,
   "metadata": {},
   "outputs": [],
   "source": [
    "#declaring a variable which will retain its state through multiple runs with zeros, shape = 4 x 2\n",
    "c = tf.Variable(tf.zeros([4,2]), name = \"c\")\n",
    "\n",
    "#declaring a variable which will retain its state through multiple runs with zeros, shape = 4 x 1\n",
    "b = tf.Variable(tf.zeros([4,1]), name = \"b\")"
   ]
  },
  {
   "cell_type": "code",
   "execution_count": 7,
   "metadata": {},
   "outputs": [],
   "source": [
    "#define a python operation for the hidden layer\n",
    "with tf.name_scope(\"hidden_layer\") as scope:\n",
    "    #the operation of the hidden layer, matrix multpilaction, addition and relu activation function\n",
    "    h = tf.nn.relu(tf.add(tf.matmul(X, W),c))\n"
   ]
  },
  {
   "cell_type": "code",
   "execution_count": 8,
   "metadata": {},
   "outputs": [],
   "source": [
    "#define a python operation for output layer\n",
    "with tf.name_scope(\"output\") as scope:\n",
    "    #the operation at the outplut layer, matrix multiplication, addition and sigmoid activation\n",
    "    y_estimated = tf.sigmoid(tf.add(tf.matmul(h,w),b))"
   ]
  },
  {
   "cell_type": "code",
   "execution_count": 9,
   "metadata": {},
   "outputs": [],
   "source": [
    "#define a python operation for the loss function\n",
    "with tf.name_scope(\"loss\") as scope:\n",
    "    #the operation that calculates the loss for our model, here it's the squared loss\n",
    "    loss = tf.reduce_mean(tf.squared_difference(y_estimated, Y)) "
   ]
  },
  {
   "cell_type": "code",
   "execution_count": 10,
   "metadata": {},
   "outputs": [],
   "source": [
    "#define a python operation for training our model\n",
    "with tf.name_scope(\"train\") as scope:\n",
    "    #the train step with gradient descent optimizer to minimize the loss\n",
    "    train_step = tf.train.GradientDescentOptimizer(0.01).minimize(loss)"
   ]
  },
  {
   "cell_type": "code",
   "execution_count": 11,
   "metadata": {},
   "outputs": [],
   "source": [
    "#input data\n",
    "INPUT_XOR = [[0,0],[0,1],[1,0],[1,1]]\n",
    "#expected output/labels for the data\n",
    "OUTPUT_XOR = [[0],[1],[1],[0]]\n",
    "\n",
    "#python operation to initialize the global variables\n",
    "init = tf.global_variables_initializer()\n",
    "\n",
    "#write the summary protocol buffers to event files\n",
    "writer = tf.summary.FileWriter(\"./logs/xor_logs\", sess.graph)\n",
    "\n",
    "#run the graph fragment to execute the operation (initialize global vars) \n",
    "sess.run(init)"
   ]
  },
  {
   "cell_type": "code",
   "execution_count": null,
   "metadata": {},
   "outputs": [],
   "source": [
    "#start the clock to record the execution time\n",
    "t_start = time.clock()\n",
    "\n",
    "#run the model for multiple epochs\n",
    "for epoch in range(100001):\n",
    "    \n",
    "    #run the graph fragment to execute the operation (training) \n",
    "    #and evaluate each tensor using data from feed_dict\n",
    "    sess.run(train_step, feed_dict={X: INPUT_XOR, Y: OUTPUT_XOR})\n",
    "    \n",
    "    #check if the step is a multiple of 10000\n",
    "    if epoch % 10000 == 0:\n",
    "        \n",
    "        #print the char 80 times, forms a separator\n",
    "        print(\"_\"*80)\n",
    "        \n",
    "        #print the epoch number\n",
    "        print('Epoch: ', epoch)\n",
    "       \n",
    "        #print y_estimated\n",
    "        print('   y_estimated: ')\n",
    "       \n",
    "        #run the graph fragment to execute the operation (y_estimated) \n",
    "        #and evaluate each tensor using data from feed_dict\n",
    "        for element in sess.run(y_estimated, feed_dict={X: INPUT_XOR, Y: OUTPUT_XOR}):\n",
    "            #print each value of y_estimated\n",
    "            print('    ',element)\n",
    "        \n",
    "        \n",
    "        #print W (theta1)\n",
    "        print('   W: ')\n",
    "        #run the graph fragment to execute the operation (W) \n",
    "        for element in sess.run(W):\n",
    "            #print each value from W\n",
    "            print('    ',element)\n",
    "        \n",
    "        \n",
    "        #print c(bias1)\n",
    "        print('   c: ')\n",
    "        #run the graph fragment to execute the operation (c) \n",
    "        for element in sess.run(c):\n",
    "            #print each value from c\n",
    "            print('    ',element)\n",
    "        \n",
    "        \n",
    "        #print w(theta2)\n",
    "        print('   w: ')\n",
    "        #run the graph fragment to execute the operation (w) \n",
    "        for element in sess.run(w):\n",
    "            #print each value from w\n",
    "            print('    ',element)\n",
    "      \n",
    "    \n",
    "        #print b(bias2)\n",
    "        print('   b ')\n",
    "        #run the graph fragment to execute the operation (b)\n",
    "        for element in sess.run(b):\n",
    "            #print each value from b\n",
    "            print('    ',element)\n",
    "      \n",
    "    \n",
    "        #run the graph fragment to execute the operation (loss) \n",
    "        #and evaluate each tensor using data from feed_dict, print the loss\n",
    "        print('   loss: ', sess.run(loss, feed_dict={X: INPUT_XOR, Y: OUTPUT_XOR}))\n",
    "\n",
    "#end the clock recording the execution time\n",
    "t_end = time.clock()\n",
    "\n",
    "\n",
    "#print the char 80 times, forms a separator\n",
    "print(\"_\"*80)\n",
    "\n",
    "#print the execution time\n",
    "print('Elapsed time ', t_end - t_start)"
   ]
  },
  {
   "cell_type": "code",
   "execution_count": null,
   "metadata": {},
   "outputs": [],
   "source": []
  }
 ],
 "metadata": {
  "kernelspec": {
   "display_name": "Python 3",
   "language": "python",
   "name": "python3"
  },
  "language_info": {
   "codemirror_mode": {
    "name": "ipython",
    "version": 3
   },
   "file_extension": ".py",
   "mimetype": "text/x-python",
   "name": "python",
   "nbconvert_exporter": "python",
   "pygments_lexer": "ipython3",
   "version": "3.5.2"
  }
 },
 "nbformat": 4,
 "nbformat_minor": 2
}
